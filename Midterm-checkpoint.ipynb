{
 "cells": [
  {
   "cell_type": "code",
   "execution_count": 162,
   "id": "047cc0ff",
   "metadata": {},
   "outputs": [],
   "source": [
    "import pandas as pd\n",
    "%matplotlib inline\n",
    "import seaborn as sns\n",
    "import matplotlib.pyplot as plt"
   ]
  },
  {
   "cell_type": "code",
   "execution_count": 163,
   "id": "23541253",
   "metadata": {},
   "outputs": [],
   "source": [
    "data1 = pd.read_csv(\"narathiwat.csv\")\n",
    "data2 = pd.read_csv(\"kanchanaburi.csv\")\n",
    "data3 = pd.read_csv(\"rayong.csv\")"
   ]
  },
  {
   "cell_type": "code",
   "execution_count": 164,
   "id": "e74007b1",
   "metadata": {},
   "outputs": [
    {
     "data": {
      "text/html": [
       "<div>\n",
       "<style scoped>\n",
       "    .dataframe tbody tr th:only-of-type {\n",
       "        vertical-align: middle;\n",
       "    }\n",
       "\n",
       "    .dataframe tbody tr th {\n",
       "        vertical-align: top;\n",
       "    }\n",
       "\n",
       "    .dataframe thead th {\n",
       "        text-align: right;\n",
       "    }\n",
       "</style>\n",
       "<table border=\"1\" class=\"dataframe\">\n",
       "  <thead>\n",
       "    <tr style=\"text-align: right;\">\n",
       "      <th></th>\n",
       "      <th>Year</th>\n",
       "      <th>Month</th>\n",
       "      <th>Day</th>\n",
       "      <th>UTC Hour</th>\n",
       "      <th>PM2.5</th>\n",
       "      <th>PM10_mask</th>\n",
       "      <th>Retrospective</th>\n",
       "    </tr>\n",
       "  </thead>\n",
       "  <tbody>\n",
       "    <tr>\n",
       "      <th>0</th>\n",
       "      <td>2016</td>\n",
       "      <td>3</td>\n",
       "      <td>3</td>\n",
       "      <td>8</td>\n",
       "      <td>62.9</td>\n",
       "      <td>1</td>\n",
       "      <td>0</td>\n",
       "    </tr>\n",
       "    <tr>\n",
       "      <th>1</th>\n",
       "      <td>2016</td>\n",
       "      <td>3</td>\n",
       "      <td>3</td>\n",
       "      <td>9</td>\n",
       "      <td>62.9</td>\n",
       "      <td>1</td>\n",
       "      <td>0</td>\n",
       "    </tr>\n",
       "    <tr>\n",
       "      <th>2</th>\n",
       "      <td>2016</td>\n",
       "      <td>3</td>\n",
       "      <td>3</td>\n",
       "      <td>10</td>\n",
       "      <td>55.5</td>\n",
       "      <td>1</td>\n",
       "      <td>0</td>\n",
       "    </tr>\n",
       "    <tr>\n",
       "      <th>3</th>\n",
       "      <td>2016</td>\n",
       "      <td>3</td>\n",
       "      <td>3</td>\n",
       "      <td>11</td>\n",
       "      <td>55.5</td>\n",
       "      <td>1</td>\n",
       "      <td>0</td>\n",
       "    </tr>\n",
       "    <tr>\n",
       "      <th>4</th>\n",
       "      <td>2016</td>\n",
       "      <td>3</td>\n",
       "      <td>3</td>\n",
       "      <td>12</td>\n",
       "      <td>47.9</td>\n",
       "      <td>1</td>\n",
       "      <td>0</td>\n",
       "    </tr>\n",
       "  </tbody>\n",
       "</table>\n",
       "</div>"
      ],
      "text/plain": [
       "   Year  Month  Day  UTC Hour  PM2.5  PM10_mask  Retrospective\n",
       "0  2016      3    3         8   62.9          1              0\n",
       "1  2016      3    3         9   62.9          1              0\n",
       "2  2016      3    3        10   55.5          1              0\n",
       "3  2016      3    3        11   55.5          1              0\n",
       "4  2016      3    3        12   47.9          1              0"
      ]
     },
     "execution_count": 164,
     "metadata": {},
     "output_type": "execute_result"
    }
   ],
   "source": [
    "data1.head(5)"
   ]
  },
  {
   "cell_type": "code",
   "execution_count": 165,
   "id": "3ac22d8c",
   "metadata": {},
   "outputs": [],
   "source": [
    "data1 = data1.drop('Retrospective', 1)"
   ]
  },
  {
   "cell_type": "code",
   "execution_count": 166,
   "id": "5d23463f",
   "metadata": {},
   "outputs": [],
   "source": [
    "data2 = data2.drop('Retrospective', 1)\n",
    "data3 = data3.drop('Retrospective', 1)"
   ]
  },
  {
   "cell_type": "code",
   "execution_count": 167,
   "id": "f16cd0ca",
   "metadata": {},
   "outputs": [
    {
     "data": {
      "text/html": [
       "<div>\n",
       "<style scoped>\n",
       "    .dataframe tbody tr th:only-of-type {\n",
       "        vertical-align: middle;\n",
       "    }\n",
       "\n",
       "    .dataframe tbody tr th {\n",
       "        vertical-align: top;\n",
       "    }\n",
       "\n",
       "    .dataframe thead th {\n",
       "        text-align: right;\n",
       "    }\n",
       "</style>\n",
       "<table border=\"1\" class=\"dataframe\">\n",
       "  <thead>\n",
       "    <tr style=\"text-align: right;\">\n",
       "      <th></th>\n",
       "      <th>Year</th>\n",
       "      <th>Month</th>\n",
       "      <th>Day</th>\n",
       "      <th>UTC Hour</th>\n",
       "      <th>PM2.5</th>\n",
       "      <th>PM10_mask</th>\n",
       "    </tr>\n",
       "  </thead>\n",
       "  <tbody>\n",
       "    <tr>\n",
       "      <th>0</th>\n",
       "      <td>2016</td>\n",
       "      <td>3</td>\n",
       "      <td>3</td>\n",
       "      <td>8</td>\n",
       "      <td>62.9</td>\n",
       "      <td>1</td>\n",
       "    </tr>\n",
       "    <tr>\n",
       "      <th>1</th>\n",
       "      <td>2016</td>\n",
       "      <td>3</td>\n",
       "      <td>3</td>\n",
       "      <td>9</td>\n",
       "      <td>62.9</td>\n",
       "      <td>1</td>\n",
       "    </tr>\n",
       "    <tr>\n",
       "      <th>2</th>\n",
       "      <td>2016</td>\n",
       "      <td>3</td>\n",
       "      <td>3</td>\n",
       "      <td>10</td>\n",
       "      <td>55.5</td>\n",
       "      <td>1</td>\n",
       "    </tr>\n",
       "    <tr>\n",
       "      <th>3</th>\n",
       "      <td>2016</td>\n",
       "      <td>3</td>\n",
       "      <td>3</td>\n",
       "      <td>11</td>\n",
       "      <td>55.5</td>\n",
       "      <td>1</td>\n",
       "    </tr>\n",
       "    <tr>\n",
       "      <th>4</th>\n",
       "      <td>2016</td>\n",
       "      <td>3</td>\n",
       "      <td>3</td>\n",
       "      <td>12</td>\n",
       "      <td>47.9</td>\n",
       "      <td>1</td>\n",
       "    </tr>\n",
       "    <tr>\n",
       "      <th>...</th>\n",
       "      <td>...</td>\n",
       "      <td>...</td>\n",
       "      <td>...</td>\n",
       "      <td>...</td>\n",
       "      <td>...</td>\n",
       "      <td>...</td>\n",
       "    </tr>\n",
       "    <tr>\n",
       "      <th>23810</th>\n",
       "      <td>2019</td>\n",
       "      <td>2</td>\n",
       "      <td>7</td>\n",
       "      <td>5</td>\n",
       "      <td>15.0</td>\n",
       "      <td>21</td>\n",
       "    </tr>\n",
       "    <tr>\n",
       "      <th>23811</th>\n",
       "      <td>2019</td>\n",
       "      <td>2</td>\n",
       "      <td>7</td>\n",
       "      <td>6</td>\n",
       "      <td>12.0</td>\n",
       "      <td>24</td>\n",
       "    </tr>\n",
       "    <tr>\n",
       "      <th>23812</th>\n",
       "      <td>2019</td>\n",
       "      <td>2</td>\n",
       "      <td>7</td>\n",
       "      <td>7</td>\n",
       "      <td>12.0</td>\n",
       "      <td>26</td>\n",
       "    </tr>\n",
       "    <tr>\n",
       "      <th>23813</th>\n",
       "      <td>2019</td>\n",
       "      <td>2</td>\n",
       "      <td>7</td>\n",
       "      <td>8</td>\n",
       "      <td>20.0</td>\n",
       "      <td>29</td>\n",
       "    </tr>\n",
       "    <tr>\n",
       "      <th>23814</th>\n",
       "      <td>2019</td>\n",
       "      <td>2</td>\n",
       "      <td>7</td>\n",
       "      <td>9</td>\n",
       "      <td>17.0</td>\n",
       "      <td>34</td>\n",
       "    </tr>\n",
       "  </tbody>\n",
       "</table>\n",
       "<p>23815 rows × 6 columns</p>\n",
       "</div>"
      ],
      "text/plain": [
       "       Year  Month  Day  UTC Hour  PM2.5  PM10_mask\n",
       "0      2016      3    3         8   62.9          1\n",
       "1      2016      3    3         9   62.9          1\n",
       "2      2016      3    3        10   55.5          1\n",
       "3      2016      3    3        11   55.5          1\n",
       "4      2016      3    3        12   47.9          1\n",
       "...     ...    ...  ...       ...    ...        ...\n",
       "23810  2019      2    7         5   15.0         21\n",
       "23811  2019      2    7         6   12.0         24\n",
       "23812  2019      2    7         7   12.0         26\n",
       "23813  2019      2    7         8   20.0         29\n",
       "23814  2019      2    7         9   17.0         34\n",
       "\n",
       "[23815 rows x 6 columns]"
      ]
     },
     "execution_count": 167,
     "metadata": {},
     "output_type": "execute_result"
    }
   ],
   "source": [
    "data1"
   ]
  },
  {
   "cell_type": "code",
   "execution_count": 168,
   "id": "81c36e36",
   "metadata": {},
   "outputs": [
    {
     "data": {
      "text/html": [
       "<div>\n",
       "<style scoped>\n",
       "    .dataframe tbody tr th:only-of-type {\n",
       "        vertical-align: middle;\n",
       "    }\n",
       "\n",
       "    .dataframe tbody tr th {\n",
       "        vertical-align: top;\n",
       "    }\n",
       "\n",
       "    .dataframe thead th {\n",
       "        text-align: right;\n",
       "    }\n",
       "</style>\n",
       "<table border=\"1\" class=\"dataframe\">\n",
       "  <thead>\n",
       "    <tr style=\"text-align: right;\">\n",
       "      <th></th>\n",
       "      <th>Year</th>\n",
       "      <th>Month</th>\n",
       "      <th>Day</th>\n",
       "      <th>UTC Hour</th>\n",
       "      <th>PM2.5</th>\n",
       "      <th>PM10_mask</th>\n",
       "    </tr>\n",
       "  </thead>\n",
       "  <tbody>\n",
       "    <tr>\n",
       "      <th>Year</th>\n",
       "      <td>1.000000</td>\n",
       "      <td>-0.230780</td>\n",
       "      <td>-0.039817</td>\n",
       "      <td>-0.003468</td>\n",
       "      <td>-0.028873</td>\n",
       "      <td>0.342376</td>\n",
       "    </tr>\n",
       "    <tr>\n",
       "      <th>Month</th>\n",
       "      <td>-0.230780</td>\n",
       "      <td>1.000000</td>\n",
       "      <td>0.006778</td>\n",
       "      <td>-0.001138</td>\n",
       "      <td>-0.063977</td>\n",
       "      <td>-0.299453</td>\n",
       "    </tr>\n",
       "    <tr>\n",
       "      <th>Day</th>\n",
       "      <td>-0.039817</td>\n",
       "      <td>0.006778</td>\n",
       "      <td>1.000000</td>\n",
       "      <td>-0.003930</td>\n",
       "      <td>0.001592</td>\n",
       "      <td>-0.004681</td>\n",
       "    </tr>\n",
       "    <tr>\n",
       "      <th>UTC Hour</th>\n",
       "      <td>-0.003468</td>\n",
       "      <td>-0.001138</td>\n",
       "      <td>-0.003930</td>\n",
       "      <td>1.000000</td>\n",
       "      <td>0.020416</td>\n",
       "      <td>0.037566</td>\n",
       "    </tr>\n",
       "    <tr>\n",
       "      <th>PM2.5</th>\n",
       "      <td>-0.028873</td>\n",
       "      <td>-0.063977</td>\n",
       "      <td>0.001592</td>\n",
       "      <td>0.020416</td>\n",
       "      <td>1.000000</td>\n",
       "      <td>-0.040039</td>\n",
       "    </tr>\n",
       "    <tr>\n",
       "      <th>PM10_mask</th>\n",
       "      <td>0.342376</td>\n",
       "      <td>-0.299453</td>\n",
       "      <td>-0.004681</td>\n",
       "      <td>0.037566</td>\n",
       "      <td>-0.040039</td>\n",
       "      <td>1.000000</td>\n",
       "    </tr>\n",
       "  </tbody>\n",
       "</table>\n",
       "</div>"
      ],
      "text/plain": [
       "               Year     Month       Day  UTC Hour     PM2.5  PM10_mask\n",
       "Year       1.000000 -0.230780 -0.039817 -0.003468 -0.028873   0.342376\n",
       "Month     -0.230780  1.000000  0.006778 -0.001138 -0.063977  -0.299453\n",
       "Day       -0.039817  0.006778  1.000000 -0.003930  0.001592  -0.004681\n",
       "UTC Hour  -0.003468 -0.001138 -0.003930  1.000000  0.020416   0.037566\n",
       "PM2.5     -0.028873 -0.063977  0.001592  0.020416  1.000000  -0.040039\n",
       "PM10_mask  0.342376 -0.299453 -0.004681  0.037566 -0.040039   1.000000"
      ]
     },
     "execution_count": 168,
     "metadata": {},
     "output_type": "execute_result"
    }
   ],
   "source": [
    "data1.corr()"
   ]
  },
  {
   "cell_type": "code",
   "execution_count": 169,
   "id": "f7a4ba4d",
   "metadata": {},
   "outputs": [],
   "source": [
    "correlat=data1.corr()"
   ]
  },
  {
   "cell_type": "code",
   "execution_count": 170,
   "id": "2e4eb4f4",
   "metadata": {},
   "outputs": [
    {
     "data": {
      "image/png": "[encoded data removed]",
      "text/plain": [
       "<Figure size 432x288 with 2 Axes>"
      ]
     },
     "metadata": {
      "needs_background": "light"
     },
     "output_type": "display_data"
    }
   ],
   "source": [
    "ax = plt.axes()\n",
    "sns.heatmap(correlat, annot=True,linewidths=.5,cmap=\"plasma\")\n",
    "ax.set_title('Narathiwat')\n",
    "plt.show()"
   ]
  },
  {
   "cell_type": "code",
   "execution_count": 171,
   "id": "e7d8a662",
   "metadata": {},
   "outputs": [
    {
     "data": {
      "text/html": [
       "<div>\n",
       "<style scoped>\n",
       "    .dataframe tbody tr th:only-of-type {\n",
       "        vertical-align: middle;\n",
       "    }\n",
       "\n",
       "    .dataframe tbody tr th {\n",
       "        vertical-align: top;\n",
       "    }\n",
       "\n",
       "    .dataframe thead th {\n",
       "        text-align: right;\n",
       "    }\n",
       "</style>\n",
       "<table border=\"1\" class=\"dataframe\">\n",
       "  <thead>\n",
       "    <tr style=\"text-align: right;\">\n",
       "      <th></th>\n",
       "      <th>Year</th>\n",
       "      <th>Month</th>\n",
       "      <th>Day</th>\n",
       "      <th>UTC Hour</th>\n",
       "      <th>PM2.5</th>\n",
       "      <th>PM10_mask</th>\n",
       "    </tr>\n",
       "  </thead>\n",
       "  <tbody>\n",
       "    <tr>\n",
       "      <th>Year</th>\n",
       "      <td>1.000000</td>\n",
       "      <td>-0.230838</td>\n",
       "      <td>-0.040039</td>\n",
       "      <td>-0.003625</td>\n",
       "      <td>0.246336</td>\n",
       "      <td>0.394835</td>\n",
       "    </tr>\n",
       "    <tr>\n",
       "      <th>Month</th>\n",
       "      <td>-0.230838</td>\n",
       "      <td>1.000000</td>\n",
       "      <td>0.006897</td>\n",
       "      <td>-0.001109</td>\n",
       "      <td>-0.326465</td>\n",
       "      <td>-0.302977</td>\n",
       "    </tr>\n",
       "    <tr>\n",
       "      <th>Day</th>\n",
       "      <td>-0.040039</td>\n",
       "      <td>0.006897</td>\n",
       "      <td>1.000000</td>\n",
       "      <td>-0.004131</td>\n",
       "      <td>-0.005119</td>\n",
       "      <td>-0.003459</td>\n",
       "    </tr>\n",
       "    <tr>\n",
       "      <th>UTC Hour</th>\n",
       "      <td>-0.003625</td>\n",
       "      <td>-0.001109</td>\n",
       "      <td>-0.004131</td>\n",
       "      <td>1.000000</td>\n",
       "      <td>0.023801</td>\n",
       "      <td>-0.005582</td>\n",
       "    </tr>\n",
       "    <tr>\n",
       "      <th>PM2.5</th>\n",
       "      <td>0.246336</td>\n",
       "      <td>-0.326465</td>\n",
       "      <td>-0.005119</td>\n",
       "      <td>0.023801</td>\n",
       "      <td>1.000000</td>\n",
       "      <td>0.463645</td>\n",
       "    </tr>\n",
       "    <tr>\n",
       "      <th>PM10_mask</th>\n",
       "      <td>0.394835</td>\n",
       "      <td>-0.302977</td>\n",
       "      <td>-0.003459</td>\n",
       "      <td>-0.005582</td>\n",
       "      <td>0.463645</td>\n",
       "      <td>1.000000</td>\n",
       "    </tr>\n",
       "  </tbody>\n",
       "</table>\n",
       "</div>"
      ],
      "text/plain": [
       "               Year     Month       Day  UTC Hour     PM2.5  PM10_mask\n",
       "Year       1.000000 -0.230838 -0.040039 -0.003625  0.246336   0.394835\n",
       "Month     -0.230838  1.000000  0.006897 -0.001109 -0.326465  -0.302977\n",
       "Day       -0.040039  0.006897  1.000000 -0.004131 -0.005119  -0.003459\n",
       "UTC Hour  -0.003625 -0.001109 -0.004131  1.000000  0.023801  -0.005582\n",
       "PM2.5      0.246336 -0.326465 -0.005119  0.023801  1.000000   0.463645\n",
       "PM10_mask  0.394835 -0.302977 -0.003459 -0.005582  0.463645   1.000000"
      ]
     },
     "execution_count": 171,
     "metadata": {},
     "output_type": "execute_result"
    }
   ],
   "source": [
    "data2.corr()"
   ]
  },
  {
   "cell_type": "code",
   "execution_count": 172,
   "id": "3274e1df",
   "metadata": {},
   "outputs": [],
   "source": [
    "correlat=data2.corr()"
   ]
  },
  {
   "cell_type": "code",
   "execution_count": 173,
   "id": "6d7d7d79",
   "metadata": {},
   "outputs": [
    {
     "data": {
      "image/png": "[encoded data removed]",
      "text/plain": [
       "<Figure size 432x288 with 2 Axes>"
      ]
     },
     "metadata": {
      "needs_background": "light"
     },
     "output_type": "display_data"
    }
   ],
   "source": [
    "ax = plt.axes()\n",
    "sns.heatmap(correlat, annot=True,linewidths=.5,cmap=\"plasma\")\n",
    "ax.set_title('Kanchanaburi')\n",
    "plt.show()"
   ]
  },
  {
   "cell_type": "code",
   "execution_count": 174,
   "id": "d932781f",
   "metadata": {},
   "outputs": [
    {
     "data": {
      "image/png": "[encoded data removed]",
      "text/plain": [
       "<Figure size 432x288 with 2 Axes>"
      ]
     },
     "metadata": {
      "needs_background": "light"
     },
     "output_type": "display_data"
    }
   ],
   "source": [
    "correlat=data3.corr()\n",
    "ax = plt.axes()\n",
    "sns.heatmap(correlat, annot=True,linewidths=.5,cmap=\"plasma\")\n",
    "ax.set_title('Rayong')\n",
    "plt.show()"
   ]
  },
  {
   "cell_type": "code",
   "execution_count": 175,
   "id": "33c40a65",
   "metadata": {},
   "outputs": [
    {
     "data": {
      "text/html": [
       "<div>\n",
       "<style scoped>\n",
       "    .dataframe tbody tr th:only-of-type {\n",
       "        vertical-align: middle;\n",
       "    }\n",
       "\n",
       "    .dataframe tbody tr th {\n",
       "        vertical-align: top;\n",
       "    }\n",
       "\n",
       "    .dataframe thead th {\n",
       "        text-align: right;\n",
       "    }\n",
       "</style>\n",
       "<table border=\"1\" class=\"dataframe\">\n",
       "  <thead>\n",
       "    <tr style=\"text-align: right;\">\n",
       "      <th></th>\n",
       "      <th>Narathiwat</th>\n",
       "      <th>Kanchanaburi</th>\n",
       "      <th>Rayong</th>\n",
       "    </tr>\n",
       "  </thead>\n",
       "  <tbody>\n",
       "    <tr>\n",
       "      <th>0</th>\n",
       "      <td>62.9</td>\n",
       "      <td>65.2</td>\n",
       "      <td>40.6</td>\n",
       "    </tr>\n",
       "    <tr>\n",
       "      <th>1</th>\n",
       "      <td>62.9</td>\n",
       "      <td>65.2</td>\n",
       "      <td>40.6</td>\n",
       "    </tr>\n",
       "    <tr>\n",
       "      <th>2</th>\n",
       "      <td>55.5</td>\n",
       "      <td>64.9</td>\n",
       "      <td>40.6</td>\n",
       "    </tr>\n",
       "    <tr>\n",
       "      <th>3</th>\n",
       "      <td>55.5</td>\n",
       "      <td>64.9</td>\n",
       "      <td>40.6</td>\n",
       "    </tr>\n",
       "    <tr>\n",
       "      <th>4</th>\n",
       "      <td>47.9</td>\n",
       "      <td>38.4</td>\n",
       "      <td>38.7</td>\n",
       "    </tr>\n",
       "    <tr>\n",
       "      <th>...</th>\n",
       "      <td>...</td>\n",
       "      <td>...</td>\n",
       "      <td>...</td>\n",
       "    </tr>\n",
       "    <tr>\n",
       "      <th>23810</th>\n",
       "      <td>15.0</td>\n",
       "      <td>NaN</td>\n",
       "      <td>29.0</td>\n",
       "    </tr>\n",
       "    <tr>\n",
       "      <th>23811</th>\n",
       "      <td>12.0</td>\n",
       "      <td>NaN</td>\n",
       "      <td>22.0</td>\n",
       "    </tr>\n",
       "    <tr>\n",
       "      <th>23812</th>\n",
       "      <td>12.0</td>\n",
       "      <td>NaN</td>\n",
       "      <td>NaN</td>\n",
       "    </tr>\n",
       "    <tr>\n",
       "      <th>23813</th>\n",
       "      <td>20.0</td>\n",
       "      <td>NaN</td>\n",
       "      <td>NaN</td>\n",
       "    </tr>\n",
       "    <tr>\n",
       "      <th>23814</th>\n",
       "      <td>17.0</td>\n",
       "      <td>NaN</td>\n",
       "      <td>NaN</td>\n",
       "    </tr>\n",
       "  </tbody>\n",
       "</table>\n",
       "<p>23815 rows × 3 columns</p>\n",
       "</div>"
      ],
      "text/plain": [
       "       Narathiwat  Kanchanaburi  Rayong\n",
       "0            62.9          65.2    40.6\n",
       "1            62.9          65.2    40.6\n",
       "2            55.5          64.9    40.6\n",
       "3            55.5          64.9    40.6\n",
       "4            47.9          38.4    38.7\n",
       "...           ...           ...     ...\n",
       "23810        15.0           NaN    29.0\n",
       "23811        12.0           NaN    22.0\n",
       "23812        12.0           NaN     NaN\n",
       "23813        20.0           NaN     NaN\n",
       "23814        17.0           NaN     NaN\n",
       "\n",
       "[23815 rows x 3 columns]"
      ]
     },
     "execution_count": 175,
     "metadata": {},
     "output_type": "execute_result"
    }
   ],
   "source": [
    "PPM2 = pd.concat([data1[\"PM2.5\"], data2[\"PM2.5\"], data3[\"PM2.5\"]] , axis = 1)\n",
    "head = ['Narathiwat','Kanchanaburi',\"Rayong\"]\n",
    "PPM2.columns = head\n",
    "PPM2"
   ]
  },
  {
   "cell_type": "code",
   "execution_count": 176,
   "id": "b3690d45",
   "metadata": {},
   "outputs": [],
   "source": [
    "correlat=PPM2.corr()"
   ]
  },
  {
   "cell_type": "code",
   "execution_count": 177,
   "id": "e70b87c1",
   "metadata": {},
   "outputs": [
    {
     "data": {
      "image/png": "[encoded data removed]",
      "text/plain": [
       "<Figure size 432x288 with 2 Axes>"
      ]
     },
     "metadata": {
      "needs_background": "light"
     },
     "output_type": "display_data"
    }
   ],
   "source": [
    "\n",
    "ax = plt.axes()\n",
    "sns.heatmap(correlat, annot=True,linewidths=.5,cmap=\"plasma\")\n",
    "ax.set_title('PM2.5')\n",
    "plt.show()"
   ]
  },
  {
   "cell_type": "code",
   "execution_count": 178,
   "id": "ad5e8180",
   "metadata": {},
   "outputs": [],
   "source": [
    "#2Perform year-wise trend of line plot for all the data x = time y = PM2.5\n"
   ]
  },
  {
   "cell_type": "code",
   "execution_count": 179,
   "id": "3d66453f",
   "metadata": {},
   "outputs": [
    {
     "name": "stderr",
     "output_type": "stream",
     "text": [
      "<ipython-input-179-f15e558f053a>:3: UserWarning: Pandas doesn't allow columns to be created via a new attribute name - see https://pandas.pydata.org/pandas-docs/stable/indexing.html#attribute-access\n",
      "  data1.Hour = data1.index.hour\n"
     ]
    }
   ],
   "source": [
    "\n",
    "data1['datetime'] = pd.to_datetime(data1[['Year', 'Month', 'Day']])\n",
    "data1.index = data1['datetime']\n",
    "data1.Hour = data1.index.hour\n",
    "\n"
   ]
  },
  {
   "cell_type": "code",
   "execution_count": 180,
   "id": "3ee18d59",
   "metadata": {},
   "outputs": [
    {
     "data": {
      "text/html": [
       "<div>\n",
       "<style scoped>\n",
       "    .dataframe tbody tr th:only-of-type {\n",
       "        vertical-align: middle;\n",
       "    }\n",
       "\n",
       "    .dataframe tbody tr th {\n",
       "        vertical-align: top;\n",
       "    }\n",
       "\n",
       "    .dataframe thead th {\n",
       "        text-align: right;\n",
       "    }\n",
       "</style>\n",
       "<table border=\"1\" class=\"dataframe\">\n",
       "  <thead>\n",
       "    <tr style=\"text-align: right;\">\n",
       "      <th></th>\n",
       "      <th>Year</th>\n",
       "      <th>Month</th>\n",
       "      <th>Day</th>\n",
       "      <th>UTC Hour</th>\n",
       "      <th>PM2.5</th>\n",
       "      <th>PM10_mask</th>\n",
       "      <th>datetime</th>\n",
       "    </tr>\n",
       "    <tr>\n",
       "      <th>datetime</th>\n",
       "      <th></th>\n",
       "      <th></th>\n",
       "      <th></th>\n",
       "      <th></th>\n",
       "      <th></th>\n",
       "      <th></th>\n",
       "      <th></th>\n",
       "    </tr>\n",
       "  </thead>\n",
       "  <tbody>\n",
       "    <tr>\n",
       "      <th>2016-03-03</th>\n",
       "      <td>2016</td>\n",
       "      <td>3</td>\n",
       "      <td>3</td>\n",
       "      <td>8</td>\n",
       "      <td>62.9</td>\n",
       "      <td>1</td>\n",
       "      <td>2016-03-03</td>\n",
       "    </tr>\n",
       "    <tr>\n",
       "      <th>2016-03-03</th>\n",
       "      <td>2016</td>\n",
       "      <td>3</td>\n",
       "      <td>3</td>\n",
       "      <td>9</td>\n",
       "      <td>62.9</td>\n",
       "      <td>1</td>\n",
       "      <td>2016-03-03</td>\n",
       "    </tr>\n",
       "    <tr>\n",
       "      <th>2016-03-03</th>\n",
       "      <td>2016</td>\n",
       "      <td>3</td>\n",
       "      <td>3</td>\n",
       "      <td>10</td>\n",
       "      <td>55.5</td>\n",
       "      <td>1</td>\n",
       "      <td>2016-03-03</td>\n",
       "    </tr>\n",
       "    <tr>\n",
       "      <th>2016-03-03</th>\n",
       "      <td>2016</td>\n",
       "      <td>3</td>\n",
       "      <td>3</td>\n",
       "      <td>11</td>\n",
       "      <td>55.5</td>\n",
       "      <td>1</td>\n",
       "      <td>2016-03-03</td>\n",
       "    </tr>\n",
       "    <tr>\n",
       "      <th>2016-03-03</th>\n",
       "      <td>2016</td>\n",
       "      <td>3</td>\n",
       "      <td>3</td>\n",
       "      <td>12</td>\n",
       "      <td>47.9</td>\n",
       "      <td>1</td>\n",
       "      <td>2016-03-03</td>\n",
       "    </tr>\n",
       "  </tbody>\n",
       "</table>\n",
       "</div>"
      ],
      "text/plain": [
       "            Year  Month  Day  UTC Hour  PM2.5  PM10_mask   datetime\n",
       "datetime                                                           \n",
       "2016-03-03  2016      3    3         8   62.9          1 2016-03-03\n",
       "2016-03-03  2016      3    3         9   62.9          1 2016-03-03\n",
       "2016-03-03  2016      3    3        10   55.5          1 2016-03-03\n",
       "2016-03-03  2016      3    3        11   55.5          1 2016-03-03\n",
       "2016-03-03  2016      3    3        12   47.9          1 2016-03-03"
      ]
     },
     "execution_count": 180,
     "metadata": {},
     "output_type": "execute_result"
    }
   ],
   "source": [
    "data1.head(5)"
   ]
  },
  {
   "cell_type": "code",
   "execution_count": 181,
   "id": "e7a2dc09",
   "metadata": {},
   "outputs": [
    {
     "name": "stderr",
     "output_type": "stream",
     "text": [
      "<ipython-input-181-9103888db253>:3: UserWarning: Pandas doesn't allow columns to be created via a new attribute name - see https://pandas.pydata.org/pandas-docs/stable/indexing.html#attribute-access\n",
      "  data2.Hour = data2.index.hour\n"
     ]
    }
   ],
   "source": [
    "data2['datetime'] = pd.to_datetime(data2[['Year', 'Month', 'Day']])\n",
    "data2.index = data2['datetime']\n",
    "data2.Hour = data2.index.hour"
   ]
  },
  {
   "cell_type": "code",
   "execution_count": 182,
   "id": "c21d7b78",
   "metadata": {},
   "outputs": [
    {
     "data": {
      "text/html": [
       "<div>\n",
       "<style scoped>\n",
       "    .dataframe tbody tr th:only-of-type {\n",
       "        vertical-align: middle;\n",
       "    }\n",
       "\n",
       "    .dataframe tbody tr th {\n",
       "        vertical-align: top;\n",
       "    }\n",
       "\n",
       "    .dataframe thead th {\n",
       "        text-align: right;\n",
       "    }\n",
       "</style>\n",
       "<table border=\"1\" class=\"dataframe\">\n",
       "  <thead>\n",
       "    <tr style=\"text-align: right;\">\n",
       "      <th></th>\n",
       "      <th>Year</th>\n",
       "      <th>Month</th>\n",
       "      <th>Day</th>\n",
       "      <th>UTC Hour</th>\n",
       "      <th>PM2.5</th>\n",
       "      <th>PM10_mask</th>\n",
       "      <th>datetime</th>\n",
       "    </tr>\n",
       "    <tr>\n",
       "      <th>datetime</th>\n",
       "      <th></th>\n",
       "      <th></th>\n",
       "      <th></th>\n",
       "      <th></th>\n",
       "      <th></th>\n",
       "      <th></th>\n",
       "      <th></th>\n",
       "    </tr>\n",
       "  </thead>\n",
       "  <tbody>\n",
       "    <tr>\n",
       "      <th>2016-03-03</th>\n",
       "      <td>2016</td>\n",
       "      <td>3</td>\n",
       "      <td>3</td>\n",
       "      <td>8</td>\n",
       "      <td>65.2</td>\n",
       "      <td>1</td>\n",
       "      <td>2016-03-03</td>\n",
       "    </tr>\n",
       "    <tr>\n",
       "      <th>2016-03-03</th>\n",
       "      <td>2016</td>\n",
       "      <td>3</td>\n",
       "      <td>3</td>\n",
       "      <td>9</td>\n",
       "      <td>65.2</td>\n",
       "      <td>1</td>\n",
       "      <td>2016-03-03</td>\n",
       "    </tr>\n",
       "    <tr>\n",
       "      <th>2016-03-03</th>\n",
       "      <td>2016</td>\n",
       "      <td>3</td>\n",
       "      <td>3</td>\n",
       "      <td>10</td>\n",
       "      <td>64.9</td>\n",
       "      <td>1</td>\n",
       "      <td>2016-03-03</td>\n",
       "    </tr>\n",
       "    <tr>\n",
       "      <th>2016-03-03</th>\n",
       "      <td>2016</td>\n",
       "      <td>3</td>\n",
       "      <td>3</td>\n",
       "      <td>11</td>\n",
       "      <td>64.9</td>\n",
       "      <td>1</td>\n",
       "      <td>2016-03-03</td>\n",
       "    </tr>\n",
       "    <tr>\n",
       "      <th>2016-03-03</th>\n",
       "      <td>2016</td>\n",
       "      <td>3</td>\n",
       "      <td>3</td>\n",
       "      <td>12</td>\n",
       "      <td>38.4</td>\n",
       "      <td>1</td>\n",
       "      <td>2016-03-03</td>\n",
       "    </tr>\n",
       "  </tbody>\n",
       "</table>\n",
       "</div>"
      ],
      "text/plain": [
       "            Year  Month  Day  UTC Hour  PM2.5  PM10_mask   datetime\n",
       "datetime                                                           \n",
       "2016-03-03  2016      3    3         8   65.2          1 2016-03-03\n",
       "2016-03-03  2016      3    3         9   65.2          1 2016-03-03\n",
       "2016-03-03  2016      3    3        10   64.9          1 2016-03-03\n",
       "2016-03-03  2016      3    3        11   64.9          1 2016-03-03\n",
       "2016-03-03  2016      3    3        12   38.4          1 2016-03-03"
      ]
     },
     "execution_count": 182,
     "metadata": {},
     "output_type": "execute_result"
    }
   ],
   "source": [
    "data2.head(5)"
   ]
  },
  {
   "cell_type": "code",
   "execution_count": 183,
   "id": "00890ec0",
   "metadata": {},
   "outputs": [
    {
     "name": "stderr",
     "output_type": "stream",
     "text": [
      "<ipython-input-183-6e240b4fec72>:3: UserWarning: Pandas doesn't allow columns to be created via a new attribute name - see https://pandas.pydata.org/pandas-docs/stable/indexing.html#attribute-access\n",
      "  data3.Hour = data3.index.hour\n"
     ]
    }
   ],
   "source": [
    "data3['datetime'] = pd.to_datetime(data3[['Year', 'Month', 'Day']])\n",
    "data3.index = data3['datetime']\n",
    "data3.Hour = data3.index.hour"
   ]
  },
  {
   "cell_type": "code",
   "execution_count": 184,
   "id": "13a00902",
   "metadata": {},
   "outputs": [
    {
     "data": {
      "text/html": [
       "<div>\n",
       "<style scoped>\n",
       "    .dataframe tbody tr th:only-of-type {\n",
       "        vertical-align: middle;\n",
       "    }\n",
       "\n",
       "    .dataframe tbody tr th {\n",
       "        vertical-align: top;\n",
       "    }\n",
       "\n",
       "    .dataframe thead th {\n",
       "        text-align: right;\n",
       "    }\n",
       "</style>\n",
       "<table border=\"1\" class=\"dataframe\">\n",
       "  <thead>\n",
       "    <tr style=\"text-align: right;\">\n",
       "      <th></th>\n",
       "      <th>Year</th>\n",
       "      <th>Month</th>\n",
       "      <th>Day</th>\n",
       "      <th>UTC Hour</th>\n",
       "      <th>PM2.5</th>\n",
       "      <th>PM10_mask</th>\n",
       "      <th>datetime</th>\n",
       "    </tr>\n",
       "    <tr>\n",
       "      <th>datetime</th>\n",
       "      <th></th>\n",
       "      <th></th>\n",
       "      <th></th>\n",
       "      <th></th>\n",
       "      <th></th>\n",
       "      <th></th>\n",
       "      <th></th>\n",
       "    </tr>\n",
       "  </thead>\n",
       "  <tbody>\n",
       "    <tr>\n",
       "      <th>2016-03-03</th>\n",
       "      <td>2016</td>\n",
       "      <td>3</td>\n",
       "      <td>3</td>\n",
       "      <td>8</td>\n",
       "      <td>40.6</td>\n",
       "      <td>1</td>\n",
       "      <td>2016-03-03</td>\n",
       "    </tr>\n",
       "    <tr>\n",
       "      <th>2016-03-03</th>\n",
       "      <td>2016</td>\n",
       "      <td>3</td>\n",
       "      <td>3</td>\n",
       "      <td>9</td>\n",
       "      <td>40.6</td>\n",
       "      <td>1</td>\n",
       "      <td>2016-03-03</td>\n",
       "    </tr>\n",
       "    <tr>\n",
       "      <th>2016-03-03</th>\n",
       "      <td>2016</td>\n",
       "      <td>3</td>\n",
       "      <td>3</td>\n",
       "      <td>10</td>\n",
       "      <td>40.6</td>\n",
       "      <td>1</td>\n",
       "      <td>2016-03-03</td>\n",
       "    </tr>\n",
       "    <tr>\n",
       "      <th>2016-03-03</th>\n",
       "      <td>2016</td>\n",
       "      <td>3</td>\n",
       "      <td>3</td>\n",
       "      <td>11</td>\n",
       "      <td>40.6</td>\n",
       "      <td>1</td>\n",
       "      <td>2016-03-03</td>\n",
       "    </tr>\n",
       "    <tr>\n",
       "      <th>2016-03-03</th>\n",
       "      <td>2016</td>\n",
       "      <td>3</td>\n",
       "      <td>3</td>\n",
       "      <td>12</td>\n",
       "      <td>38.7</td>\n",
       "      <td>1</td>\n",
       "      <td>2016-03-03</td>\n",
       "    </tr>\n",
       "  </tbody>\n",
       "</table>\n",
       "</div>"
      ],
      "text/plain": [
       "            Year  Month  Day  UTC Hour  PM2.5  PM10_mask   datetime\n",
       "datetime                                                           \n",
       "2016-03-03  2016      3    3         8   40.6          1 2016-03-03\n",
       "2016-03-03  2016      3    3         9   40.6          1 2016-03-03\n",
       "2016-03-03  2016      3    3        10   40.6          1 2016-03-03\n",
       "2016-03-03  2016      3    3        11   40.6          1 2016-03-03\n",
       "2016-03-03  2016      3    3        12   38.7          1 2016-03-03"
      ]
     },
     "execution_count": 184,
     "metadata": {},
     "output_type": "execute_result"
    }
   ],
   "source": [
    "data3.head(5)"
   ]
  },
  {
   "cell_type": "code",
   "execution_count": 185,
   "id": "f321b421",
   "metadata": {},
   "outputs": [
    {
     "data": {
      "text/plain": [
       "<matplotlib.legend.Legend at 0x23f92fa5940>"
      ]
     },
     "execution_count": 185,
     "metadata": {},
     "output_type": "execute_result"
    },
    {
     "data": {
      "image/png": "[encoded data removed]",
      "text/plain": [
       "<Figure size 432x288 with 1 Axes>"
      ]
     },
     "metadata": {
      "needs_background": "light"
     },
     "output_type": "display_data"
    }
   ],
   "source": [
    "fig = plt.figure()\n",
    "\n",
    "ax = fig.add_axes([0,0,2,1.2])\n",
    "\n",
    "ax.plot(data1['datetime'], data1['PM2.5'], label=\"Narathiwat\")\n",
    "ax.plot(data2['datetime'], data2['PM2.5'], label=\"Kanchanaburi\")\n",
    "ax.plot(data3['datetime'], data3['PM2.5'], label=\"Rayong\")\n",
    "ax.legend()"
   ]
  },
  {
   "cell_type": "code",
   "execution_count": null,
   "id": "41086b85",
   "metadata": {},
   "outputs": [],
   "source": []
  },
  {
   "cell_type": "code",
   "execution_count": null,
   "id": "2d44a2f7",
   "metadata": {},
   "outputs": [],
   "source": []
  },
  {
   "cell_type": "code",
   "execution_count": 186,
   "id": "b7a2d929",
   "metadata": {},
   "outputs": [],
   "source": [
    "#3Display a pie chart with explosion on any of the data with 0-50 as normal 50-100 moderate and 100+ for abnormal"
   ]
  },
  {
   "cell_type": "code",
   "execution_count": 187,
   "id": "e928012d",
   "metadata": {},
   "outputs": [],
   "source": [
    "PM = []\n",
    "for row in data1[\"PM2.5\"]:\n",
    "    if row <= 50:\n",
    "        PM.append(\"normal\")\n",
    "    elif row <= 100:\n",
    "        PM.append(\"moderate\")\n",
    "    else:\n",
    "        PM.append(\"abnormal\")"
   ]
  },
  {
   "cell_type": "code",
   "execution_count": 188,
   "id": "9ae84431",
   "metadata": {},
   "outputs": [],
   "source": [
    "data1[\"PM\"] = PM"
   ]
  },
  {
   "cell_type": "code",
   "execution_count": 189,
   "id": "289082e4",
   "metadata": {
    "scrolled": true
   },
   "outputs": [
    {
     "name": "stdout",
     "output_type": "stream",
     "text": [
      "22478\n",
      "1332\n",
      "5\n"
     ]
    }
   ],
   "source": [
    "print(data1[data1[\"PM\"] == \"normal\"][\"PM\"].count())\n",
    "print(data1[data1[\"PM\"] == \"moderate\"][\"PM\"].count())\n",
    "print(data1[data1[\"PM\"] == \"abnormal\"][\"PM\"].count())"
   ]
  },
  {
   "cell_type": "code",
   "execution_count": 190,
   "id": "670ca352",
   "metadata": {},
   "outputs": [],
   "source": [
    "sizes = [22478,1332,5]\n",
    "label = [\"normal\" , \"moderate\" , \"abnormal\"]"
   ]
  },
  {
   "cell_type": "code",
   "execution_count": 191,
   "id": "bfb52963",
   "metadata": {},
   "outputs": [
    {
     "data": {
      "text/plain": [
       "Text(0.5, 1.0, 'PM2.5 Narathiwat')"
      ]
     },
     "execution_count": 191,
     "metadata": {},
     "output_type": "execute_result"
    },
    {
     "data": {
      "image/png": "[encoded data removed]",
      "text/plain": [
       "<Figure size 432x288 with 1 Axes>"
      ]
     },
     "metadata": {},
     "output_type": "display_data"
    }
   ],
   "source": [
    "fig, ax = plt.subplots()\n",
    "explode = (0.1, 0.4, 0.4)\n",
    "ax.pie(sizes, \n",
    "       explode = explode,\n",
    "       labels = label, shadow=True, autopct='%1.2f%%')\n",
    "ax.axis('equal')  # Equal aspect ratio ensures the pie chart is circular.\n",
    "ax.set_title('PM2.5 Narathiwat')\n"
   ]
  },
  {
   "cell_type": "code",
   "execution_count": 192,
   "id": "4b1e241e",
   "metadata": {},
   "outputs": [],
   "source": [
    "PM = []\n",
    "for row in data2[\"PM2.5\"]:\n",
    "    if row <= 50:\n",
    "        PM.append(\"normal\")\n",
    "    elif row <= 100:\n",
    "        PM.append(\"moderate\")\n",
    "    else:\n",
    "        PM.append(\"abnormal\")"
   ]
  },
  {
   "cell_type": "code",
   "execution_count": 193,
   "id": "f3bcdd15",
   "metadata": {},
   "outputs": [],
   "source": [
    "data2[\"PM\"] = PM"
   ]
  },
  {
   "cell_type": "code",
   "execution_count": 194,
   "id": "a53da118",
   "metadata": {},
   "outputs": [
    {
     "name": "stdout",
     "output_type": "stream",
     "text": [
      "21935\n",
      "1796\n",
      "77\n"
     ]
    }
   ],
   "source": [
    "print(data2[data2[\"PM\"] == \"normal\"][\"PM\"].count())\n",
    "print(data2[data2[\"PM\"] == \"moderate\"][\"PM\"].count())\n",
    "print(data2[data2[\"PM\"] == \"abnormal\"][\"PM\"].count())"
   ]
  },
  {
   "cell_type": "code",
   "execution_count": 195,
   "id": "dcbc06e6",
   "metadata": {},
   "outputs": [],
   "source": [
    "sizes = [21935,1796,77]\n",
    "label = [\"normal\" , \"moderate\" , \"abnormal\"]"
   ]
  },
  {
   "cell_type": "code",
   "execution_count": 196,
   "id": "c7b1c0d4",
   "metadata": {},
   "outputs": [
    {
     "data": {
      "text/plain": [
       "Text(0.5, 1.0, 'PM2.5 Kanchanaburi')"
      ]
     },
     "execution_count": 196,
     "metadata": {},
     "output_type": "execute_result"
    },
    {
     "data": {
      "image/png": "[encoded data removed]",
      "text/plain": [
       "<Figure size 432x288 with 1 Axes>"
      ]
     },
     "metadata": {},
     "output_type": "display_data"
    }
   ],
   "source": [
    "fig, ax = plt.subplots()\n",
    "explode = (0.1, 0.4, 0.4)\n",
    "ax.pie(sizes, \n",
    "       explode = explode,\n",
    "       labels = label, shadow=True, autopct='%1.2f%%')\n",
    "ax.axis('equal')  # Equal aspect ratio ensures the pie chart is circular.\n",
    "ax.set_title('PM2.5 Kanchanaburi')"
   ]
  },
  {
   "cell_type": "code",
   "execution_count": 197,
   "id": "cb27e6e9",
   "metadata": {},
   "outputs": [],
   "source": [
    "PM = []\n",
    "for row in data3[\"PM2.5\"]:\n",
    "    if row <= 50:\n",
    "        PM.append(\"normal\")\n",
    "    elif row <= 100:\n",
    "        PM.append(\"moderate\")\n",
    "    else:\n",
    "        PM.append(\"abnormal\")"
   ]
  },
  {
   "cell_type": "code",
   "execution_count": 198,
   "id": "eb6c1ba6",
   "metadata": {},
   "outputs": [],
   "source": [
    "data3[\"PM\"] = PM"
   ]
  },
  {
   "cell_type": "code",
   "execution_count": 199,
   "id": "31d891e7",
   "metadata": {},
   "outputs": [
    {
     "name": "stdout",
     "output_type": "stream",
     "text": [
      "23019\n",
      "783\n",
      "10\n"
     ]
    }
   ],
   "source": [
    "print(data3[data3[\"PM\"] == \"normal\"][\"PM\"].count())\n",
    "print(data3[data3[\"PM\"] == \"moderate\"][\"PM\"].count())\n",
    "print(data3[data3[\"PM\"] == \"abnormal\"][\"PM\"].count())"
   ]
  },
  {
   "cell_type": "code",
   "execution_count": 200,
   "id": "c158351e",
   "metadata": {},
   "outputs": [],
   "source": [
    "sizes = [23019,783,10]\n",
    "label = [\"normal\" , \"moderate\" , \"abnormal\"]"
   ]
  },
  {
   "cell_type": "code",
   "execution_count": 201,
   "id": "ea369140",
   "metadata": {},
   "outputs": [
    {
     "data": {
      "text/plain": [
       "Text(0.5, 1.0, 'PM2.5 Rayong')"
      ]
     },
     "execution_count": 201,
     "metadata": {},
     "output_type": "execute_result"
    },
    {
     "data": {
      "image/png": "[encoded data removed]",
      "text/plain": [
       "<Figure size 432x288 with 1 Axes>"
      ]
     },
     "metadata": {},
     "output_type": "display_data"
    }
   ],
   "source": [
    "fig, ax = plt.subplots()\n",
    "explode = (0.1, 0.4, 0.4)\n",
    "ax.pie(sizes, \n",
    "       explode = explode,\n",
    "       labels = label, shadow=True, autopct='%1.2f%%')\n",
    "ax.axis('equal')  # Equal aspect ratio ensures the pie chart is circular.\n",
    "ax.set_title('PM2.5 Rayong')"
   ]
  },
  {
   "cell_type": "code",
   "execution_count": null,
   "id": "c670f5c0",
   "metadata": {},
   "outputs": [],
   "source": []
  }
 ],
 "metadata": {
  "kernelspec": {
   "display_name": "Python 3",
   "language": "python",
   "name": "python3"
  },
  "language_info": {
   "codemirror_mode": {
    "name": "ipython",
    "version": 3
   },
   "file_extension": ".py",
   "mimetype": "text/x-python",
   "name": "python",
   "nbconvert_exporter": "python",
   "pygments_lexer": "ipython3",
   "version": "3.8.8"
  }
 },
 "nbformat": 4,
 "nbformat_minor": 5
}
