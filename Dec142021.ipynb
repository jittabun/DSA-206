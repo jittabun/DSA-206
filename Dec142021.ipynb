{
 "cells": [
  {
   "cell_type": "code",
   "execution_count": 9,
   "id": "d0c7c764",
   "metadata": {},
   "outputs": [],
   "source": [
    "import matplotlib.pyplot as plt\n",
    "import pandas as pd"
   ]
  },
  {
   "cell_type": "code",
   "execution_count": 10,
   "id": "6fe62ec4",
   "metadata": {},
   "outputs": [
    {
     "data": {
      "text/plain": [
       "<matplotlib.collections.PathCollection at 0x1f65658fd60>"
      ]
     },
     "execution_count": 10,
     "metadata": {},
     "output_type": "execute_result"
    },
    {
     "data": {
      "image/png": "[encoded data removed]",
      "text/plain": [
       "<Figure size 720x432 with 1 Axes>"
      ]
     },
     "metadata": {
      "needs_background": "light"
     },
     "output_type": "display_data"
    }
   ],
   "source": [
    "x = [43,76,34,63,56,82,87,55,64,87,95,23,14,65,67,25,23,85]\n",
    "y = [34,45,34,23,43,76,26,16,18,24,74,23,56,45,48,94,56,54]\n",
    "fig ,ax = plt.subplots(1, figsize=(10,6))\n",
    "fig.suptitle('Example of ScatterPlot')\n",
    "ax.scatter(x,y,color = \"red\",s = 300,alpha = 0.5,linewidth = 2)"
   ]
  },
  {
   "cell_type": "code",
   "execution_count": 11,
   "id": "014f8326",
   "metadata": {},
   "outputs": [
    {
     "data": {
      "text/html": [
       "<div>\n",
       "<style scoped>\n",
       "    .dataframe tbody tr th:only-of-type {\n",
       "        vertical-align: middle;\n",
       "    }\n",
       "\n",
       "    .dataframe tbody tr th {\n",
       "        vertical-align: top;\n",
       "    }\n",
       "\n",
       "    .dataframe thead th {\n",
       "        text-align: right;\n",
       "    }\n",
       "</style>\n",
       "<table border=\"1\" class=\"dataframe\">\n",
       "  <thead>\n",
       "    <tr style=\"text-align: right;\">\n",
       "      <th></th>\n",
       "      <th>Year</th>\n",
       "      <th>Month</th>\n",
       "      <th>Day</th>\n",
       "      <th>UTC Hour</th>\n",
       "      <th>PM2.5</th>\n",
       "      <th>PM10_mask</th>\n",
       "      <th>Retrospective</th>\n",
       "    </tr>\n",
       "  </thead>\n",
       "  <tbody>\n",
       "    <tr>\n",
       "      <th>0</th>\n",
       "      <td>2016</td>\n",
       "      <td>3</td>\n",
       "      <td>3</td>\n",
       "      <td>8</td>\n",
       "      <td>62.9</td>\n",
       "      <td>1</td>\n",
       "      <td>0</td>\n",
       "    </tr>\n",
       "    <tr>\n",
       "      <th>1</th>\n",
       "      <td>2016</td>\n",
       "      <td>3</td>\n",
       "      <td>3</td>\n",
       "      <td>9</td>\n",
       "      <td>62.9</td>\n",
       "      <td>1</td>\n",
       "      <td>0</td>\n",
       "    </tr>\n",
       "    <tr>\n",
       "      <th>2</th>\n",
       "      <td>2016</td>\n",
       "      <td>3</td>\n",
       "      <td>3</td>\n",
       "      <td>10</td>\n",
       "      <td>55.5</td>\n",
       "      <td>1</td>\n",
       "      <td>0</td>\n",
       "    </tr>\n",
       "    <tr>\n",
       "      <th>3</th>\n",
       "      <td>2016</td>\n",
       "      <td>3</td>\n",
       "      <td>3</td>\n",
       "      <td>11</td>\n",
       "      <td>55.5</td>\n",
       "      <td>1</td>\n",
       "      <td>0</td>\n",
       "    </tr>\n",
       "    <tr>\n",
       "      <th>4</th>\n",
       "      <td>2016</td>\n",
       "      <td>3</td>\n",
       "      <td>3</td>\n",
       "      <td>12</td>\n",
       "      <td>47.9</td>\n",
       "      <td>1</td>\n",
       "      <td>0</td>\n",
       "    </tr>\n",
       "  </tbody>\n",
       "</table>\n",
       "</div>"
      ],
      "text/plain": [
       "   Year  Month  Day  UTC Hour  PM2.5  PM10_mask  Retrospective\n",
       "0  2016      3    3         8   62.9          1              0\n",
       "1  2016      3    3         9   62.9          1              0\n",
       "2  2016      3    3        10   55.5          1              0\n",
       "3  2016      3    3        11   55.5          1              0\n",
       "4  2016      3    3        12   47.9          1              0"
      ]
     },
     "execution_count": 11,
     "metadata": {},
     "output_type": "execute_result"
    }
   ],
   "source": [
    "df = pd.read_csv('https://raw.githubusercontent.com/ferdinjoe/Jupyter_Data_Visualization/master/kanjanaphisek_bangkok_pm25.csv')\n",
    "df.head()"
   ]
  },
  {
   "cell_type": "code",
   "execution_count": 12,
   "id": "439fde6d",
   "metadata": {},
   "outputs": [],
   "source": [
    "\n",
    "df.rename(columns={'UTC Hour':'Hour'}, inplace=True)\n",
    "df['datetime'] = pd.to_datetime(df[['Year', 'Month', 'Day', 'Hour']]) + pd.Timedelta(hours=7)\n",
    "df.index = df['datetime']\n",
    "df.Hour = df.index.hour\n",
    "df.drop(columns=['PM10_mask','Retrospective','datetime'],inplace=True)"
   ]
  },
  {
   "cell_type": "code",
   "execution_count": 13,
   "id": "cda1202e",
   "metadata": {
    "scrolled": true
   },
   "outputs": [
    {
     "data": {
      "text/html": [
       "<div>\n",
       "<style scoped>\n",
       "    .dataframe tbody tr th:only-of-type {\n",
       "        vertical-align: middle;\n",
       "    }\n",
       "\n",
       "    .dataframe tbody tr th {\n",
       "        vertical-align: top;\n",
       "    }\n",
       "\n",
       "    .dataframe thead th {\n",
       "        text-align: right;\n",
       "    }\n",
       "</style>\n",
       "<table border=\"1\" class=\"dataframe\">\n",
       "  <thead>\n",
       "    <tr style=\"text-align: right;\">\n",
       "      <th></th>\n",
       "      <th>Year</th>\n",
       "      <th>Month</th>\n",
       "      <th>Day</th>\n",
       "      <th>Hour</th>\n",
       "      <th>PM2.5</th>\n",
       "    </tr>\n",
       "    <tr>\n",
       "      <th>datetime</th>\n",
       "      <th></th>\n",
       "      <th></th>\n",
       "      <th></th>\n",
       "      <th></th>\n",
       "      <th></th>\n",
       "    </tr>\n",
       "  </thead>\n",
       "  <tbody>\n",
       "    <tr>\n",
       "      <th>2016-03-03 19:00:00</th>\n",
       "      <td>2016</td>\n",
       "      <td>3</td>\n",
       "      <td>3</td>\n",
       "      <td>19</td>\n",
       "      <td>47.9</td>\n",
       "    </tr>\n",
       "    <tr>\n",
       "      <th>2016-03-03 20:00:00</th>\n",
       "      <td>2016</td>\n",
       "      <td>3</td>\n",
       "      <td>3</td>\n",
       "      <td>20</td>\n",
       "      <td>43.6</td>\n",
       "    </tr>\n",
       "    <tr>\n",
       "      <th>2016-03-03 21:00:00</th>\n",
       "      <td>2016</td>\n",
       "      <td>3</td>\n",
       "      <td>3</td>\n",
       "      <td>21</td>\n",
       "      <td>28.6</td>\n",
       "    </tr>\n",
       "    <tr>\n",
       "      <th>2016-03-03 22:00:00</th>\n",
       "      <td>2016</td>\n",
       "      <td>3</td>\n",
       "      <td>3</td>\n",
       "      <td>22</td>\n",
       "      <td>33.6</td>\n",
       "    </tr>\n",
       "    <tr>\n",
       "      <th>2016-03-03 23:00:00</th>\n",
       "      <td>2016</td>\n",
       "      <td>3</td>\n",
       "      <td>3</td>\n",
       "      <td>23</td>\n",
       "      <td>34.8</td>\n",
       "    </tr>\n",
       "    <tr>\n",
       "      <th>...</th>\n",
       "      <td>...</td>\n",
       "      <td>...</td>\n",
       "      <td>...</td>\n",
       "      <td>...</td>\n",
       "      <td>...</td>\n",
       "    </tr>\n",
       "    <tr>\n",
       "      <th>2019-02-07 11:00:00</th>\n",
       "      <td>2019</td>\n",
       "      <td>2</td>\n",
       "      <td>7</td>\n",
       "      <td>11</td>\n",
       "      <td>42.0</td>\n",
       "    </tr>\n",
       "    <tr>\n",
       "      <th>2019-02-07 12:00:00</th>\n",
       "      <td>2019</td>\n",
       "      <td>2</td>\n",
       "      <td>7</td>\n",
       "      <td>12</td>\n",
       "      <td>33.0</td>\n",
       "    </tr>\n",
       "    <tr>\n",
       "      <th>2019-02-07 13:00:00</th>\n",
       "      <td>2019</td>\n",
       "      <td>2</td>\n",
       "      <td>7</td>\n",
       "      <td>13</td>\n",
       "      <td>37.0</td>\n",
       "    </tr>\n",
       "    <tr>\n",
       "      <th>2019-02-07 14:00:00</th>\n",
       "      <td>2019</td>\n",
       "      <td>2</td>\n",
       "      <td>7</td>\n",
       "      <td>14</td>\n",
       "      <td>40.0</td>\n",
       "    </tr>\n",
       "    <tr>\n",
       "      <th>2019-02-07 15:00:00</th>\n",
       "      <td>2019</td>\n",
       "      <td>2</td>\n",
       "      <td>7</td>\n",
       "      <td>15</td>\n",
       "      <td>34.0</td>\n",
       "    </tr>\n",
       "  </tbody>\n",
       "</table>\n",
       "<p>22006 rows × 5 columns</p>\n",
       "</div>"
      ],
      "text/plain": [
       "                     Year  Month  Day  Hour  PM2.5\n",
       "datetime                                          \n",
       "2016-03-03 19:00:00  2016      3    3    19   47.9\n",
       "2016-03-03 20:00:00  2016      3    3    20   43.6\n",
       "2016-03-03 21:00:00  2016      3    3    21   28.6\n",
       "2016-03-03 22:00:00  2016      3    3    22   33.6\n",
       "2016-03-03 23:00:00  2016      3    3    23   34.8\n",
       "...                   ...    ...  ...   ...    ...\n",
       "2019-02-07 11:00:00  2019      2    7    11   42.0\n",
       "2019-02-07 12:00:00  2019      2    7    12   33.0\n",
       "2019-02-07 13:00:00  2019      2    7    13   37.0\n",
       "2019-02-07 14:00:00  2019      2    7    14   40.0\n",
       "2019-02-07 15:00:00  2019      2    7    15   34.0\n",
       "\n",
       "[22006 rows x 5 columns]"
      ]
     },
     "execution_count": 13,
     "metadata": {},
     "output_type": "execute_result"
    }
   ],
   "source": [
    "df[df[\"PM2.5\"] <= 50]"
   ]
  },
  {
   "cell_type": "code",
   "execution_count": 14,
   "id": "4b22ca6f",
   "metadata": {},
   "outputs": [
    {
     "data": {
      "text/plain": [
       "datetime\n",
       "2016-03-03 15:00:00    62.9\n",
       "2016-03-03 16:00:00    62.9\n",
       "2016-03-03 17:00:00    55.5\n",
       "2016-03-03 18:00:00    55.5\n",
       "2016-03-23 04:00:00    54.2\n",
       "                       ... \n",
       "2019-02-02 23:00:00    51.0\n",
       "2019-02-03 00:00:00    54.0\n",
       "2019-02-03 01:00:00    55.0\n",
       "2019-02-03 12:00:00    51.0\n",
       "2019-02-04 18:00:00    51.0\n",
       "Name: PM2.5, Length: 1717, dtype: float64"
      ]
     },
     "execution_count": 14,
     "metadata": {},
     "output_type": "execute_result"
    }
   ],
   "source": [
    "df[(df['PM2.5'] > 50) & (df[\"PM2.5\"] <=100)][\"PM2.5\"]"
   ]
  },
  {
   "cell_type": "code",
   "execution_count": 15,
   "id": "dfcf68b1",
   "metadata": {},
   "outputs": [
    {
     "data": {
      "text/plain": [
       "datetime\n",
       "2017-03-03 09:00:00    115.4\n",
       "2018-01-22 08:00:00    103.4\n",
       "2018-01-22 09:00:00    100.8\n",
       "2018-02-08 10:00:00    114.3\n",
       "2018-02-14 08:00:00    104.1\n",
       "                       ...  \n",
       "2019-01-31 16:00:00    106.0\n",
       "2019-02-01 02:00:00    104.0\n",
       "2019-02-01 03:00:00    118.0\n",
       "2019-02-01 04:00:00    121.0\n",
       "2019-02-01 05:00:00    103.0\n",
       "Name: PM2.5, Length: 91, dtype: float64"
      ]
     },
     "execution_count": 15,
     "metadata": {},
     "output_type": "execute_result"
    }
   ],
   "source": [
    "df[df[\"PM2.5\"]>100][\"PM2.5\"]"
   ]
  },
  {
   "cell_type": "code",
   "execution_count": 16,
   "id": "c6d5fd1d",
   "metadata": {},
   "outputs": [],
   "source": [
    "PM = []\n",
    "for row in df[\"PM2.5\"]:\n",
    "    if row <= 50:\n",
    "        PM.append(\"Low\")\n",
    "    elif row <= 100:\n",
    "        PM.append(\"Med\")\n",
    "    else:\n",
    "        PM.append(\"High\")\n"
   ]
  },
  {
   "cell_type": "code",
   "execution_count": 17,
   "id": "4416dea5",
   "metadata": {},
   "outputs": [],
   "source": [
    "df[\"PM\"] = PM"
   ]
  },
  {
   "cell_type": "code",
   "execution_count": 18,
   "id": "00a016c1",
   "metadata": {},
   "outputs": [
    {
     "data": {
      "text/html": [
       "<div>\n",
       "<style scoped>\n",
       "    .dataframe tbody tr th:only-of-type {\n",
       "        vertical-align: middle;\n",
       "    }\n",
       "\n",
       "    .dataframe tbody tr th {\n",
       "        vertical-align: top;\n",
       "    }\n",
       "\n",
       "    .dataframe thead th {\n",
       "        text-align: right;\n",
       "    }\n",
       "</style>\n",
       "<table border=\"1\" class=\"dataframe\">\n",
       "  <thead>\n",
       "    <tr style=\"text-align: right;\">\n",
       "      <th></th>\n",
       "      <th>Year</th>\n",
       "      <th>Month</th>\n",
       "      <th>Day</th>\n",
       "      <th>Hour</th>\n",
       "      <th>PM2.5</th>\n",
       "      <th>PM</th>\n",
       "    </tr>\n",
       "    <tr>\n",
       "      <th>datetime</th>\n",
       "      <th></th>\n",
       "      <th></th>\n",
       "      <th></th>\n",
       "      <th></th>\n",
       "      <th></th>\n",
       "      <th></th>\n",
       "    </tr>\n",
       "  </thead>\n",
       "  <tbody>\n",
       "    <tr>\n",
       "      <th>2016-03-03 15:00:00</th>\n",
       "      <td>2016</td>\n",
       "      <td>3</td>\n",
       "      <td>3</td>\n",
       "      <td>15</td>\n",
       "      <td>62.9</td>\n",
       "      <td>Med</td>\n",
       "    </tr>\n",
       "    <tr>\n",
       "      <th>2016-03-03 16:00:00</th>\n",
       "      <td>2016</td>\n",
       "      <td>3</td>\n",
       "      <td>3</td>\n",
       "      <td>16</td>\n",
       "      <td>62.9</td>\n",
       "      <td>Med</td>\n",
       "    </tr>\n",
       "    <tr>\n",
       "      <th>2016-03-03 17:00:00</th>\n",
       "      <td>2016</td>\n",
       "      <td>3</td>\n",
       "      <td>3</td>\n",
       "      <td>17</td>\n",
       "      <td>55.5</td>\n",
       "      <td>Med</td>\n",
       "    </tr>\n",
       "    <tr>\n",
       "      <th>2016-03-03 18:00:00</th>\n",
       "      <td>2016</td>\n",
       "      <td>3</td>\n",
       "      <td>3</td>\n",
       "      <td>18</td>\n",
       "      <td>55.5</td>\n",
       "      <td>Med</td>\n",
       "    </tr>\n",
       "    <tr>\n",
       "      <th>2016-03-03 19:00:00</th>\n",
       "      <td>2016</td>\n",
       "      <td>3</td>\n",
       "      <td>3</td>\n",
       "      <td>19</td>\n",
       "      <td>47.9</td>\n",
       "      <td>Low</td>\n",
       "    </tr>\n",
       "    <tr>\n",
       "      <th>...</th>\n",
       "      <td>...</td>\n",
       "      <td>...</td>\n",
       "      <td>...</td>\n",
       "      <td>...</td>\n",
       "      <td>...</td>\n",
       "      <td>...</td>\n",
       "    </tr>\n",
       "    <tr>\n",
       "      <th>2019-02-07 11:00:00</th>\n",
       "      <td>2019</td>\n",
       "      <td>2</td>\n",
       "      <td>7</td>\n",
       "      <td>11</td>\n",
       "      <td>42.0</td>\n",
       "      <td>Low</td>\n",
       "    </tr>\n",
       "    <tr>\n",
       "      <th>2019-02-07 12:00:00</th>\n",
       "      <td>2019</td>\n",
       "      <td>2</td>\n",
       "      <td>7</td>\n",
       "      <td>12</td>\n",
       "      <td>33.0</td>\n",
       "      <td>Low</td>\n",
       "    </tr>\n",
       "    <tr>\n",
       "      <th>2019-02-07 13:00:00</th>\n",
       "      <td>2019</td>\n",
       "      <td>2</td>\n",
       "      <td>7</td>\n",
       "      <td>13</td>\n",
       "      <td>37.0</td>\n",
       "      <td>Low</td>\n",
       "    </tr>\n",
       "    <tr>\n",
       "      <th>2019-02-07 14:00:00</th>\n",
       "      <td>2019</td>\n",
       "      <td>2</td>\n",
       "      <td>7</td>\n",
       "      <td>14</td>\n",
       "      <td>40.0</td>\n",
       "      <td>Low</td>\n",
       "    </tr>\n",
       "    <tr>\n",
       "      <th>2019-02-07 15:00:00</th>\n",
       "      <td>2019</td>\n",
       "      <td>2</td>\n",
       "      <td>7</td>\n",
       "      <td>15</td>\n",
       "      <td>34.0</td>\n",
       "      <td>Low</td>\n",
       "    </tr>\n",
       "  </tbody>\n",
       "</table>\n",
       "<p>23814 rows × 6 columns</p>\n",
       "</div>"
      ],
      "text/plain": [
       "                     Year  Month  Day  Hour  PM2.5   PM\n",
       "datetime                                               \n",
       "2016-03-03 15:00:00  2016      3    3    15   62.9  Med\n",
       "2016-03-03 16:00:00  2016      3    3    16   62.9  Med\n",
       "2016-03-03 17:00:00  2016      3    3    17   55.5  Med\n",
       "2016-03-03 18:00:00  2016      3    3    18   55.5  Med\n",
       "2016-03-03 19:00:00  2016      3    3    19   47.9  Low\n",
       "...                   ...    ...  ...   ...    ...  ...\n",
       "2019-02-07 11:00:00  2019      2    7    11   42.0  Low\n",
       "2019-02-07 12:00:00  2019      2    7    12   33.0  Low\n",
       "2019-02-07 13:00:00  2019      2    7    13   37.0  Low\n",
       "2019-02-07 14:00:00  2019      2    7    14   40.0  Low\n",
       "2019-02-07 15:00:00  2019      2    7    15   34.0  Low\n",
       "\n",
       "[23814 rows x 6 columns]"
      ]
     },
     "execution_count": 18,
     "metadata": {},
     "output_type": "execute_result"
    }
   ],
   "source": [
    "df"
   ]
  },
  {
   "cell_type": "code",
   "execution_count": 19,
   "id": "0a621d12",
   "metadata": {},
   "outputs": [
    {
     "data": {
      "text/plain": [
       "<matplotlib.collections.PathCollection at 0x1f65662f760>"
      ]
     },
     "execution_count": 19,
     "metadata": {},
     "output_type": "execute_result"
    },
    {
     "data": {
      "image/png": "[encoded data removed]",
      "text/plain": [
       "<Figure size 864x576 with 1 Axes>"
      ]
     },
     "metadata": {
      "needs_background": "light"
     },
     "output_type": "display_data"
    }
   ],
   "source": [
    "\n",
    "x = df[df[\"PM\"] == \"Low\"].index\n",
    "y = df[df[\"PM\"] == \"Low\"][\"PM2.5\"]\n",
    "\n",
    "a = df[df[\"PM\"] == \"Med\"].index\n",
    "b = df[df[\"PM\"] == \"Med\"][\"PM2.5\"]\n",
    "\n",
    "c = df[df[\"PM\"] == \"High\"].index\n",
    "d = df[df[\"PM\"] == \"High\"][\"PM2.5\"]\n",
    "\n",
    "\n",
    "plt.figure(figsize = (12,8))\n",
    "plt.grid(True)\n",
    "plt.scatter(x,y,s = y)\n",
    "plt.scatter(a,b,s = b)\n",
    "plt.scatter(c,d,s = d)"
   ]
  },
  {
   "cell_type": "code",
   "execution_count": 20,
   "id": "0ac13300",
   "metadata": {},
   "outputs": [
    {
     "name": "stdout",
     "output_type": "stream",
     "text": [
      "91\n",
      "1717\n",
      "22006\n"
     ]
    }
   ],
   "source": [
    "print(df[df[\"PM\"] == \"High\"][\"PM\"].count())\n",
    "print(df[df[\"PM\"] == \"Med\"][\"PM\"].count())\n",
    "print(df[df[\"PM\"] == \"Low\"][\"PM\"].count())"
   ]
  },
  {
   "cell_type": "code",
   "execution_count": 21,
   "id": "254f9309",
   "metadata": {},
   "outputs": [],
   "source": [
    "sizes = [91,1717,22006]\n",
    "label = [\"High\" , \"Med\" , \"Low\"]"
   ]
  },
  {
   "cell_type": "code",
   "execution_count": 22,
   "id": "cc5d3c0d",
   "metadata": {
    "scrolled": true
   },
   "outputs": [
    {
     "data": {
      "text/plain": [
       "Text(0.5, 1.0, 'PM2.5')"
      ]
     },
     "execution_count": 22,
     "metadata": {},
     "output_type": "execute_result"
    },
    {
     "data": {
      "image/png": "[encoded data removed]",
      "text/plain": [
       "<Figure size 432x288 with 1 Axes>"
      ]
     },
     "metadata": {},
     "output_type": "display_data"
    }
   ],
   "source": [
    "fig, ax = plt.subplots()\n",
    "explode = (0.1, 0.4, 0.4)\n",
    "ax.pie(sizes, \n",
    "       explode = explode,\n",
    "       labels = label, shadow=True, autopct='%1.2f%%')\n",
    "ax.axis('equal')  # Equal aspect ratio ensures the pie chart is circular.\n",
    "ax.set_title('PM2.5')\n"
   ]
  },
  {
   "cell_type": "code",
   "execution_count": 29,
   "id": "d7e6f056",
   "metadata": {},
   "outputs": [
    {
     "data": {
      "text/plain": [
       "DatetimeIndex(['2016-03-03 19:00:00', '2016-03-03 20:00:00',\n",
       "               '2016-03-03 21:00:00', '2016-03-03 22:00:00',\n",
       "               '2016-03-03 23:00:00', '2016-03-04 00:00:00',\n",
       "               '2016-03-04 02:00:00', '2016-03-04 03:00:00',\n",
       "               '2016-03-04 04:00:00', '2016-03-04 05:00:00',\n",
       "               ...\n",
       "               '2019-02-07 06:00:00', '2019-02-07 07:00:00',\n",
       "               '2019-02-07 08:00:00', '2019-02-07 09:00:00',\n",
       "               '2019-02-07 10:00:00', '2019-02-07 11:00:00',\n",
       "               '2019-02-07 12:00:00', '2019-02-07 13:00:00',\n",
       "               '2019-02-07 14:00:00', '2019-02-07 15:00:00'],\n",
       "              dtype='datetime64[ns]', name='datetime', length=22006, freq=None)"
      ]
     },
     "execution_count": 29,
     "metadata": {},
     "output_type": "execute_result"
    }
   ],
   "source": [
    "df[df[\"PM\"] == \"Low\"].index"
   ]
  },
  {
   "cell_type": "code",
   "execution_count": 30,
   "id": "caea8976",
   "metadata": {},
   "outputs": [
    {
     "data": {
      "text/html": [
       "<div>\n",
       "<style scoped>\n",
       "    .dataframe tbody tr th:only-of-type {\n",
       "        vertical-align: middle;\n",
       "    }\n",
       "\n",
       "    .dataframe tbody tr th {\n",
       "        vertical-align: top;\n",
       "    }\n",
       "\n",
       "    .dataframe thead th {\n",
       "        text-align: right;\n",
       "    }\n",
       "</style>\n",
       "<table border=\"1\" class=\"dataframe\">\n",
       "  <thead>\n",
       "    <tr style=\"text-align: right;\">\n",
       "      <th></th>\n",
       "      <th>Year</th>\n",
       "      <th>Month</th>\n",
       "      <th>Day</th>\n",
       "      <th>Hour</th>\n",
       "      <th>PM2.5</th>\n",
       "      <th>PM</th>\n",
       "    </tr>\n",
       "    <tr>\n",
       "      <th>datetime</th>\n",
       "      <th></th>\n",
       "      <th></th>\n",
       "      <th></th>\n",
       "      <th></th>\n",
       "      <th></th>\n",
       "      <th></th>\n",
       "    </tr>\n",
       "  </thead>\n",
       "  <tbody>\n",
       "    <tr>\n",
       "      <th>2016-03-03 19:00:00</th>\n",
       "      <td>2016</td>\n",
       "      <td>3</td>\n",
       "      <td>3</td>\n",
       "      <td>19</td>\n",
       "      <td>47.9</td>\n",
       "      <td>Low</td>\n",
       "    </tr>\n",
       "    <tr>\n",
       "      <th>2016-03-03 20:00:00</th>\n",
       "      <td>2016</td>\n",
       "      <td>3</td>\n",
       "      <td>3</td>\n",
       "      <td>20</td>\n",
       "      <td>43.6</td>\n",
       "      <td>Low</td>\n",
       "    </tr>\n",
       "    <tr>\n",
       "      <th>2016-03-03 21:00:00</th>\n",
       "      <td>2016</td>\n",
       "      <td>3</td>\n",
       "      <td>3</td>\n",
       "      <td>21</td>\n",
       "      <td>28.6</td>\n",
       "      <td>Low</td>\n",
       "    </tr>\n",
       "    <tr>\n",
       "      <th>2016-03-03 22:00:00</th>\n",
       "      <td>2016</td>\n",
       "      <td>3</td>\n",
       "      <td>3</td>\n",
       "      <td>22</td>\n",
       "      <td>33.6</td>\n",
       "      <td>Low</td>\n",
       "    </tr>\n",
       "    <tr>\n",
       "      <th>2016-03-03 23:00:00</th>\n",
       "      <td>2016</td>\n",
       "      <td>3</td>\n",
       "      <td>3</td>\n",
       "      <td>23</td>\n",
       "      <td>34.8</td>\n",
       "      <td>Low</td>\n",
       "    </tr>\n",
       "    <tr>\n",
       "      <th>...</th>\n",
       "      <td>...</td>\n",
       "      <td>...</td>\n",
       "      <td>...</td>\n",
       "      <td>...</td>\n",
       "      <td>...</td>\n",
       "      <td>...</td>\n",
       "    </tr>\n",
       "    <tr>\n",
       "      <th>2019-02-07 11:00:00</th>\n",
       "      <td>2019</td>\n",
       "      <td>2</td>\n",
       "      <td>7</td>\n",
       "      <td>11</td>\n",
       "      <td>42.0</td>\n",
       "      <td>Low</td>\n",
       "    </tr>\n",
       "    <tr>\n",
       "      <th>2019-02-07 12:00:00</th>\n",
       "      <td>2019</td>\n",
       "      <td>2</td>\n",
       "      <td>7</td>\n",
       "      <td>12</td>\n",
       "      <td>33.0</td>\n",
       "      <td>Low</td>\n",
       "    </tr>\n",
       "    <tr>\n",
       "      <th>2019-02-07 13:00:00</th>\n",
       "      <td>2019</td>\n",
       "      <td>2</td>\n",
       "      <td>7</td>\n",
       "      <td>13</td>\n",
       "      <td>37.0</td>\n",
       "      <td>Low</td>\n",
       "    </tr>\n",
       "    <tr>\n",
       "      <th>2019-02-07 14:00:00</th>\n",
       "      <td>2019</td>\n",
       "      <td>2</td>\n",
       "      <td>7</td>\n",
       "      <td>14</td>\n",
       "      <td>40.0</td>\n",
       "      <td>Low</td>\n",
       "    </tr>\n",
       "    <tr>\n",
       "      <th>2019-02-07 15:00:00</th>\n",
       "      <td>2019</td>\n",
       "      <td>2</td>\n",
       "      <td>7</td>\n",
       "      <td>15</td>\n",
       "      <td>34.0</td>\n",
       "      <td>Low</td>\n",
       "    </tr>\n",
       "  </tbody>\n",
       "</table>\n",
       "<p>22006 rows × 6 columns</p>\n",
       "</div>"
      ],
      "text/plain": [
       "                     Year  Month  Day  Hour  PM2.5   PM\n",
       "datetime                                               \n",
       "2016-03-03 19:00:00  2016      3    3    19   47.9  Low\n",
       "2016-03-03 20:00:00  2016      3    3    20   43.6  Low\n",
       "2016-03-03 21:00:00  2016      3    3    21   28.6  Low\n",
       "2016-03-03 22:00:00  2016      3    3    22   33.6  Low\n",
       "2016-03-03 23:00:00  2016      3    3    23   34.8  Low\n",
       "...                   ...    ...  ...   ...    ...  ...\n",
       "2019-02-07 11:00:00  2019      2    7    11   42.0  Low\n",
       "2019-02-07 12:00:00  2019      2    7    12   33.0  Low\n",
       "2019-02-07 13:00:00  2019      2    7    13   37.0  Low\n",
       "2019-02-07 14:00:00  2019      2    7    14   40.0  Low\n",
       "2019-02-07 15:00:00  2019      2    7    15   34.0  Low\n",
       "\n",
       "[22006 rows x 6 columns]"
      ]
     },
     "execution_count": 30,
     "metadata": {},
     "output_type": "execute_result"
    }
   ],
   "source": [
    "df[df[\"PM\"] == \"Low\"]"
   ]
  },
  {
   "cell_type": "code",
   "execution_count": null,
   "id": "8be1372c",
   "metadata": {},
   "outputs": [],
   "source": []
  }
 ],
 "metadata": {
  "kernelspec": {
   "display_name": "Python 3",
   "language": "python",
   "name": "python3"
  },
  "language_info": {
   "codemirror_mode": {
    "name": "ipython",
    "version": 3
   },
   "file_extension": ".py",
   "mimetype": "text/x-python",
   "name": "python",
   "nbconvert_exporter": "python",
   "pygments_lexer": "ipython3",
   "version": "3.8.8"
  }
 },
 "nbformat": 4,
 "nbformat_minor": 5
}
